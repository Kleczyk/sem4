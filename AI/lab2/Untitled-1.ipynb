{
 "cells": [
  {
   "cell_type": "code",
   "execution_count": 31,
   "metadata": {},
   "outputs": [
    {
     "name": "stdout",
     "output_type": "stream",
     "text": [
      "  ____  __  _  _  ____  ____  _  _  __   \n",
      " / ___)(  )( \\/ )(  _ \\(  __)/ )( \\(  ) v2.10.0 \n",
      " \\___ \\ )( / \\/ \\ ) __/ ) _) ) \\/ (/ (_/\\ \n",
      " (____/(__)\\_)(_/(__)  (__)  \\____/\\____/\n",
      "\n",
      " Created by Marco S. Nobile (m.s.nobile@tue.nl)\n",
      " and Simone Spolaor (simone.spolaor@unimib.it)\n",
      "\n",
      " * Detected Sugeno model type\n",
      "{'Tip': 15.2}\n"
     ]
    }
   ],
   "source": [
    "from simpful import *\n",
    "\n",
    "# A simple fuzzy inference system for the tipping problem\n",
    "# Create a fuzzy system object\n",
    "FS = FuzzySystem()\n",
    "# Define fuzzy sets and linguistic variables\n",
    "S_1 = FuzzySet(points=[[0., 1.],  [5., 0.]], term=\"poor\")\n",
    "S_2 = FuzzySet(points=[[0., 0.], [5., 1.], [10., 0.]], term=\"good\")\n",
    "S_3 = FuzzySet(points=[[5., 0.],  [10., 1.]], term=\"excellent\")\n",
    "FS.add_linguistic_variable(\"Service\", LinguisticVariable([S_1, S_2, S_3], concept=\"Service quality\"))\n",
    "F_1 = FuzzySet(points=[[0., 1.],  [10., 0.]], term=\"rancid\")\n",
    "F_2 = FuzzySet(points=[[0., 0.],  [10., 1.]], term=\"delicious\")\n",
    "FS.add_linguistic_variable(\"Food\", LinguisticVariable([F_1, F_2], concept=\"Food quality\"))\n",
    "# Define output crisp values\n",
    "FS.set_crisp_output_value(\"small\", 5)\n",
    "FS.set_crisp_output_value(\"average\", 15)\n",
    "# Define function for generous tip (food score + service score + 5%)\n",
    "FS.set_output_function(\"generous\", \"Food+Service+5\")\n",
    "# Define fuzzy rules\n",
    "R1 = \"IF (Service IS poor) OR (Food IS rancid) THEN (Tip IS small)\"\n",
    "R2 = \"IF (Service IS good) THEN (Tip IS average)\"\n",
    "R3 = \"IF (Service IS excellent) OR (Food IS delicious) THEN (Tip IS generous)\"\n",
    "FS.add_rules([R1, R2, R3])\n",
    "# Set antecedents values\n",
    "FS.set_variable(\"Service\", 5)\n",
    "FS.set_variable(\"Food\", 8)\n",
    "# Perform Sugeno inference and print output\n",
    "print(FS.Sugeno_inference([\"Tip\"]))"
   ]
  },
  {
   "cell_type": "code",
   "execution_count": 30,
   "metadata": {},
   "outputs": [
    {
     "name": "stdout",
     "output_type": "stream",
     "text": [
      "  ____  __  _  _  ____  ____  _  _  __   \n",
      " / ___)(  )( \\/ )(  _ \\(  __)/ )( \\(  ) v2.10.0 \n",
      " \\___ \\ )( / \\/ \\ ) __/ ) _) ) \\/ (/ (_/\\ \n",
      " (____/(__)\\_)(_/(__)  (__)  \\____/\\____/\n",
      "\n",
      " Created by Marco S. Nobile (m.s.nobile@tue.nl)\n",
      " and Simone Spolaor (simone.spolaor@unimib.it)\n",
      "\n"
     ]
    },
    {
     "ename": "Exception",
     "evalue": "ERROR: one rule calculates an output named 'small', but I cannot find it among the output terms.\n --- PROBLEMATIC RULE:\nIF f.(c.(Service IS poor) OR c.(Food IS rancid)) THEN ('Tip', 'small', '1.0')",
     "output_type": "error",
     "traceback": [
      "\u001b[1;31m---------------------------------------------------------------------------\u001b[0m",
      "\u001b[1;31mException\u001b[0m                                 Traceback (most recent call last)",
      "Cell \u001b[1;32mIn[30], line 34\u001b[0m\n\u001b[0;32m     31\u001b[0m FS\u001b[39m.\u001b[39mset_variable(\u001b[39m\"\u001b[39m\u001b[39mFood\u001b[39m\u001b[39m\"\u001b[39m, \u001b[39m8\u001b[39m)\n\u001b[0;32m     33\u001b[0m \u001b[39m# Perform Mamdani inference and print output\u001b[39;00m\n\u001b[1;32m---> 34\u001b[0m \u001b[39mprint\u001b[39m(FS\u001b[39m.\u001b[39;49mSugeno_inference([\u001b[39m\"\u001b[39;49m\u001b[39mTip\u001b[39;49m\u001b[39m\"\u001b[39;49m]))\n",
      "File \u001b[1;32mc:\\Python311\\Lib\\site-packages\\simpful\\simpful.py:686\u001b[0m, in \u001b[0;36mFuzzySystem.Sugeno_inference\u001b[1;34m(self, terms, ignore_errors, ignore_warnings, verbose)\u001b[0m\n\u001b[0;32m    683\u001b[0m         array_rules\u001b[39m.\u001b[39mT[\u001b[39m1\u001b[39m][n] \u001b[39m=\u001b[39m cons\n\u001b[0;32m    685\u001b[0m \u001b[39mif\u001b[39;00m \u001b[39mlen\u001b[39m(\u001b[39mself\u001b[39m\u001b[39m.\u001b[39m_constants)\u001b[39m==\u001b[39m\u001b[39m0\u001b[39m:\n\u001b[1;32m--> 686\u001b[0m     result \u001b[39m=\u001b[39m \u001b[39mself\u001b[39;49m\u001b[39m.\u001b[39;49mmediate(terms, array_rules\u001b[39m.\u001b[39;49mT[\u001b[39m0\u001b[39;49m], array_rules\u001b[39m.\u001b[39;49mT[\u001b[39m1\u001b[39;49m], ignore_errors\u001b[39m=\u001b[39;49mignore_errors, ignore_warnings\u001b[39m=\u001b[39;49mignore_warnings, verbose\u001b[39m=\u001b[39;49mverbose)\n\u001b[0;32m    687\u001b[0m \u001b[39melse\u001b[39;00m:\n\u001b[0;32m    688\u001b[0m     \u001b[39m#remove constant variables from list of variables to infer\u001b[39;00m\n\u001b[0;32m    689\u001b[0m     ncost_terms \u001b[39m=\u001b[39m [t \u001b[39mfor\u001b[39;00m t \u001b[39min\u001b[39;00m terms \u001b[39mif\u001b[39;00m t \u001b[39mnot\u001b[39;00m \u001b[39min\u001b[39;00m \u001b[39mself\u001b[39m\u001b[39m.\u001b[39m_constants]\n",
      "File \u001b[1;32mc:\\Python311\\Lib\\site-packages\\simpful\\simpful.py:519\u001b[0m, in \u001b[0;36mFuzzySystem.mediate\u001b[1;34m(self, outputs, antecedent, results, ignore_errors, ignore_warnings, verbose)\u001b[0m\n\u001b[0;32m    517\u001b[0m     crisp \u001b[39m=\u001b[39m \u001b[39mFalse\u001b[39;00m\n\u001b[0;32m    518\u001b[0m     \u001b[39mif\u001b[39;00m outterm \u001b[39mnot\u001b[39;00m \u001b[39min\u001b[39;00m list_output_funs:\n\u001b[1;32m--> 519\u001b[0m         \u001b[39mraise\u001b[39;00m \u001b[39mException\u001b[39;00m(\u001b[39m\"\u001b[39m\u001b[39mERROR: one rule calculates an output named \u001b[39m\u001b[39m'\u001b[39m\u001b[39m\"\u001b[39m\n\u001b[0;32m    520\u001b[0m             \u001b[39m+\u001b[39m outterm\n\u001b[0;32m    521\u001b[0m             \u001b[39m+\u001b[39m \u001b[39m\"\u001b[39m\u001b[39m'\u001b[39m\u001b[39m, but I cannot find it among the output terms.\u001b[39m\u001b[39m\\n\u001b[39;00m\u001b[39m\"\u001b[39m\n\u001b[0;32m    522\u001b[0m             \u001b[39m+\u001b[39m \u001b[39m\"\u001b[39m\u001b[39m --- PROBLEMATIC RULE:\u001b[39m\u001b[39m\\n\u001b[39;00m\u001b[39m\"\u001b[39m\n\u001b[0;32m    523\u001b[0m             \u001b[39m+\u001b[39m \u001b[39m\"\u001b[39m\u001b[39mIF \u001b[39m\u001b[39m\"\u001b[39m \u001b[39m+\u001b[39m \u001b[39mstr\u001b[39m(ant) \u001b[39m+\u001b[39m \u001b[39m\"\u001b[39m\u001b[39m THEN \u001b[39m\u001b[39m\"\u001b[39m \u001b[39m+\u001b[39m \u001b[39mstr\u001b[39m(res))\n\u001b[0;32m    524\u001b[0m \u001b[39mif\u001b[39;00m crisp:\n\u001b[0;32m    525\u001b[0m     crispvalue \u001b[39m=\u001b[39m \u001b[39mself\u001b[39m\u001b[39m.\u001b[39m_crispvalues[outterm]\n",
      "\u001b[1;31mException\u001b[0m: ERROR: one rule calculates an output named 'small', but I cannot find it among the output terms.\n --- PROBLEMATIC RULE:\nIF f.(c.(Service IS poor) OR c.(Food IS rancid)) THEN ('Tip', 'small', '1.0')"
     ]
    }
   ],
   "source": [
    "from simpful import *\n",
    "\n",
    "# A simple fuzzy inference system for the tipping problem\n",
    "# Create a fuzzy system object\n",
    "FS = FuzzySystem()\n",
    "\n",
    "# Define fuzzy sets and linguistic variables\n",
    "S_1 = FuzzySet(function=Triangular_MF(a=0, b=0, c=5), term=\"poor\")\n",
    "S_2 = FuzzySet(function=Triangular_MF(a=0, b=5, c=10), term=\"good\")\n",
    "S_3 = FuzzySet(function=Triangular_MF(a=5, b=10, c=10), term=\"excellent\")\n",
    "FS.add_linguistic_variable(\"Service\", LinguisticVariable([S_1, S_2, S_3], concept=\"Service quality\", universe_of_discourse=[0,10]))\n",
    "\n",
    "F_1 = FuzzySet(function=Triangular_MF(a=0, b=0, c=10), term=\"rancid\")\n",
    "F_2 = FuzzySet(function=Triangular_MF(a=0, b=10, c=10), term=\"delicious\")\n",
    "FS.add_linguistic_variable(\"Food\", LinguisticVariable([F_1, F_2], concept=\"Food quality\", universe_of_discourse=[0,10]))\n",
    "\n",
    "# Define output fuzzy sets and linguistic variable\n",
    "T_1 = FuzzySet(function=Triangular_MF(a=0, b=0, c=10), term=\"small\")\n",
    "T_2 = FuzzySet(function=Triangular_MF(a=0, b=10, c=20), term=\"average\")\n",
    "T_3 = FuzzySet(function=Trapezoidal_MF(a=10, b=20, c=25, d=25), term=\"generous\")\n",
    "FS.add_linguistic_variable(\"Tip\", LinguisticVariable([T_1, T_2, T_3], universe_of_discourse=[0,25]))\n",
    "\n",
    "# Define fuzzy rules\n",
    "R1 = \"IF (Service IS poor) OR (Food IS rancid) THEN (Tip IS small)\"\n",
    "R2 = \"IF (Service IS good) THEN (Tip IS average)\"\n",
    "R3 = \"IF (Service IS excellent) OR (Food IS delicious) THEN (Tip IS generous)\"\n",
    "FS.add_rules([R1, R2, R3])\n",
    "\n",
    "# Set antecedents values\n",
    "FS.set_variable(\"Service\", 4)\n",
    "FS.set_variable(\"Food\", 8)\n",
    "\n",
    "# Perform Mamdani inference and print output\n",
    "print(FS.Sugeno_inference([\"Tip\"]))"
   ]
  },
  {
   "cell_type": "markdown",
   "metadata": {},
   "source": []
  },
  {
   "cell_type": "code",
   "execution_count": 24,
   "metadata": {},
   "outputs": [
    {
     "name": "stdout",
     "output_type": "stream",
     "text": [
      "  ____  __  _  _  ____  ____  _  _  __   \n",
      " / ___)(  )( \\/ )(  _ \\(  __)/ )( \\(  ) v2.10.0 \n",
      " \\___ \\ )( / \\/ \\ ) __/ ) _) ) \\/ (/ (_/\\ \n",
      " (____/(__)\\_)(_/(__)  (__)  \\____/\\____/\n",
      "\n",
      " Created by Marco S. Nobile (m.s.nobile@tue.nl)\n",
      " and Simone Spolaor (simone.spolaor@unimib.it)\n",
      "\n",
      " * Detected Sugeno model type\n"
     ]
    },
    {
     "ename": "Exception",
     "evalue": "ERROR: one rule calculates an output named 'front', but I cannot find it among the output terms.\n --- PROBLEMATIC RULE:\nIF f.(c.(left IS S) AND f.(c.(front IS S) AND c.(right IS S))) THEN ('vl', 'front', '1.0')",
     "output_type": "error",
     "traceback": [
      "\u001b[1;31m---------------------------------------------------------------------------\u001b[0m",
      "\u001b[1;31mException\u001b[0m                                 Traceback (most recent call last)",
      "Cell \u001b[1;32mIn[24], line 53\u001b[0m\n\u001b[0;32m     51\u001b[0m FS\u001b[39m.\u001b[39mset_variable(\u001b[39m\"\u001b[39m\u001b[39mback\u001b[39m\u001b[39m\"\u001b[39m, \u001b[39m2\u001b[39m)\n\u001b[0;32m     52\u001b[0m \u001b[39m# Perform Sugeno inference and print output\u001b[39;00m\n\u001b[1;32m---> 53\u001b[0m \u001b[39mprint\u001b[39m(FS\u001b[39m.\u001b[39;49mSugeno_inference([\u001b[39m\"\u001b[39;49m\u001b[39mvl\u001b[39;49m\u001b[39m\"\u001b[39;49m]))\n\u001b[0;32m     56\u001b[0m \u001b[39m# rule1 =ctrl.Rule(antecedent=(left['S'] & front['S'] & right['S']),consequent=(vl['front'], vr['front']) )\u001b[39;00m\n\u001b[0;32m     57\u001b[0m \u001b[39m# rule2 =ctrl.Rule(antecedent=(left['S'] & front['S'] & right['B']),consequent=(vl['back'], vr['front']) )\u001b[39;00m\n\u001b[0;32m     58\u001b[0m \u001b[39m# rule3 =ctrl.Rule(antecedent=(left['S'] & front['B'] & right['S']),consequent=(vl['back'], vr['front']) )\u001b[39;00m\n\u001b[1;32m   (...)\u001b[0m\n\u001b[0;32m     62\u001b[0m \u001b[39m# rule7 =ctrl.Rule(antecedent=(left['B'] & front['S'] & right['B']),consequent=(vl['front'], vr['front']) )\u001b[39;00m\n\u001b[0;32m     63\u001b[0m \u001b[39m# rule8 =ctrl.Rule(antecedent=(left['B'] & front['B'] & right['B']),consequent=(vl['back'], vr['front']) )\u001b[39;00m\n\u001b[0;32m     70\u001b[0m FS\u001b[39m.\u001b[39mplot_variable(\u001b[39m\"\u001b[39m\u001b[39mvl\u001b[39m\u001b[39m\"\u001b[39m)\n",
      "File \u001b[1;32mc:\\Python311\\Lib\\site-packages\\simpful\\simpful.py:686\u001b[0m, in \u001b[0;36mFuzzySystem.Sugeno_inference\u001b[1;34m(self, terms, ignore_errors, ignore_warnings, verbose)\u001b[0m\n\u001b[0;32m    683\u001b[0m         array_rules\u001b[39m.\u001b[39mT[\u001b[39m1\u001b[39m][n] \u001b[39m=\u001b[39m cons\n\u001b[0;32m    685\u001b[0m \u001b[39mif\u001b[39;00m \u001b[39mlen\u001b[39m(\u001b[39mself\u001b[39m\u001b[39m.\u001b[39m_constants)\u001b[39m==\u001b[39m\u001b[39m0\u001b[39m:\n\u001b[1;32m--> 686\u001b[0m     result \u001b[39m=\u001b[39m \u001b[39mself\u001b[39;49m\u001b[39m.\u001b[39;49mmediate(terms, array_rules\u001b[39m.\u001b[39;49mT[\u001b[39m0\u001b[39;49m], array_rules\u001b[39m.\u001b[39;49mT[\u001b[39m1\u001b[39;49m], ignore_errors\u001b[39m=\u001b[39;49mignore_errors, ignore_warnings\u001b[39m=\u001b[39;49mignore_warnings, verbose\u001b[39m=\u001b[39;49mverbose)\n\u001b[0;32m    687\u001b[0m \u001b[39melse\u001b[39;00m:\n\u001b[0;32m    688\u001b[0m     \u001b[39m#remove constant variables from list of variables to infer\u001b[39;00m\n\u001b[0;32m    689\u001b[0m     ncost_terms \u001b[39m=\u001b[39m [t \u001b[39mfor\u001b[39;00m t \u001b[39min\u001b[39;00m terms \u001b[39mif\u001b[39;00m t \u001b[39mnot\u001b[39;00m \u001b[39min\u001b[39;00m \u001b[39mself\u001b[39m\u001b[39m.\u001b[39m_constants]\n",
      "File \u001b[1;32mc:\\Python311\\Lib\\site-packages\\simpful\\simpful.py:519\u001b[0m, in \u001b[0;36mFuzzySystem.mediate\u001b[1;34m(self, outputs, antecedent, results, ignore_errors, ignore_warnings, verbose)\u001b[0m\n\u001b[0;32m    517\u001b[0m     crisp \u001b[39m=\u001b[39m \u001b[39mFalse\u001b[39;00m\n\u001b[0;32m    518\u001b[0m     \u001b[39mif\u001b[39;00m outterm \u001b[39mnot\u001b[39;00m \u001b[39min\u001b[39;00m list_output_funs:\n\u001b[1;32m--> 519\u001b[0m         \u001b[39mraise\u001b[39;00m \u001b[39mException\u001b[39;00m(\u001b[39m\"\u001b[39m\u001b[39mERROR: one rule calculates an output named \u001b[39m\u001b[39m'\u001b[39m\u001b[39m\"\u001b[39m\n\u001b[0;32m    520\u001b[0m             \u001b[39m+\u001b[39m outterm\n\u001b[0;32m    521\u001b[0m             \u001b[39m+\u001b[39m \u001b[39m\"\u001b[39m\u001b[39m'\u001b[39m\u001b[39m, but I cannot find it among the output terms.\u001b[39m\u001b[39m\\n\u001b[39;00m\u001b[39m\"\u001b[39m\n\u001b[0;32m    522\u001b[0m             \u001b[39m+\u001b[39m \u001b[39m\"\u001b[39m\u001b[39m --- PROBLEMATIC RULE:\u001b[39m\u001b[39m\\n\u001b[39;00m\u001b[39m\"\u001b[39m\n\u001b[0;32m    523\u001b[0m             \u001b[39m+\u001b[39m \u001b[39m\"\u001b[39m\u001b[39mIF \u001b[39m\u001b[39m\"\u001b[39m \u001b[39m+\u001b[39m \u001b[39mstr\u001b[39m(ant) \u001b[39m+\u001b[39m \u001b[39m\"\u001b[39m\u001b[39m THEN \u001b[39m\u001b[39m\"\u001b[39m \u001b[39m+\u001b[39m \u001b[39mstr\u001b[39m(res))\n\u001b[0;32m    524\u001b[0m \u001b[39mif\u001b[39;00m crisp:\n\u001b[0;32m    525\u001b[0m     crispvalue \u001b[39m=\u001b[39m \u001b[39mself\u001b[39m\u001b[39m.\u001b[39m_crispvalues[outterm]\n",
      "\u001b[1;31mException\u001b[0m: ERROR: one rule calculates an output named 'front', but I cannot find it among the output terms.\n --- PROBLEMATIC RULE:\nIF f.(c.(left IS S) AND f.(c.(front IS S) AND c.(right IS S))) THEN ('vl', 'front', '1.0')"
     ]
    }
   ],
   "source": [
    "import simpful as sf\n",
    "import matplotlib.pyplot as plt\n",
    "import numpy as np\n",
    "\n",
    "FS = sf.FuzzySystem()\n",
    "\n",
    "MaxProximitiSignal = 4096\n",
    "MaxSpeed = 20000\n",
    "\n",
    "L_S = sf.FuzzySet(points=[[0., 0.],  [MaxProximitiSignal, 1.]], term=\"S\")\n",
    "L_B = sf.FuzzySet(points=[[0., 1.], [MaxProximitiSignal,0]], term=\"B\")\n",
    "FS.add_linguistic_variable(\"left\", sf.LinguisticVariable([L_S, L_B], concept=\"left\"))\n",
    "\n",
    "R_S = sf.FuzzySet(points=[[0., 0.],  [MaxProximitiSignal, 1.]], term=\"S\")\n",
    "R_B = sf.FuzzySet(points=[[0., 1.], [MaxProximitiSignal,0]], term=\"B\")\n",
    "FS.add_linguistic_variable(\"right\", sf.LinguisticVariable([R_S, R_B], concept=\"right\"))\n",
    "\n",
    "F_S= sf.FuzzySet(points=[[0., 0.],  [MaxProximitiSignal, 1.]], term=\"S\")\n",
    "F_B= sf.FuzzySet(points=[[0., 1.], [MaxProximitiSignal,0]], term=\"B\")\n",
    "FS.add_linguistic_variable(\"front\", sf.LinguisticVariable([F_S, F_B], concept=\"front\"))\n",
    "\n",
    "\n",
    "Back = sf.FuzzySet(points=[[-MaxSpeed, 1.],  [0., 0.]], term=\"back\")\n",
    "Front = sf.FuzzySet(points=[[0., 0.], [MaxSpeed,1]], term=\"front\")\n",
    "FS.add_linguistic_variable(\"Back_front_function\", sf.LinguisticVariable([Back, Front], concept=\"Back_front_function\"))\n",
    "\n",
    "vr_Back = sf.FuzzySet(points=[[-MaxSpeed, 1.],  [0., 0.]], term=\"back\")\n",
    "vr_Front = sf.FuzzySet(points=[[0., 0.], [MaxSpeed,1]], term=\"front\")\n",
    "FS.add_linguistic_variable(\"vr\", sf.LinguisticVariable([vr_Back, vr_Front], concept=\"vr\"))\n",
    "\n",
    "FS.set_output_function(\"vr\", \"vr\")\n",
    "FS.set_output_function(\"vl\", \"vl\")\n",
    "\n",
    "# R1 = \"IF (Service IS poor) OR (Food IS rancid) THEN (Tip IS small)\"\n",
    "# R2 = \"IF (Service IS good) THEN (Tip IS average)\"\n",
    "# R3 = \"IF (Service IS excellent) OR (Food IS delicious) THEN (Tip IS generous)\"\n",
    "\n",
    "R1= \"IF (left IS S) AND (front IS S) AND (right IS S) THEN (vl IS front)         \"           # AND (vr IS front)\"\n",
    "R2= \"IF (left IS S) AND (front IS S) AND (right IS B) THEN (vl IS back)          \"           #AND (vr IS front)\"\n",
    "R3= \"IF (left IS S) AND (front IS B) AND (right IS S) THEN (vl IS back)          \"           #AND (vr IS front)\"\n",
    "R4= \"IF (left IS S) AND (front IS B) AND (right IS B) THEN (vl IS back)          \"           #AND (vr IS front)\"\n",
    "R5= \"IF (left IS B) AND (front IS S) AND (right IS S) THEN (vl IS front)         \"           # AND (vr IS back)\"\n",
    "R6= \"IF (left IS B) AND (front IS B) AND (right IS S) THEN (vl IS front)         \"           # AND (vr IS back)\"\n",
    "R7= \"IF (left IS B) AND (front IS S) AND (right IS B) THEN (vl IS front)         \"           # AND (vr IS front)\"\n",
    "R8= \"IF (left IS B) AND (front IS B) AND (right IS B) THEN (vl IS back)          \"           #AND (vr IS front)\"\n",
    "     \n",
    "FS.add_rules([R1, R2, R3, R4, R5, R6, R7, R8])\n",
    "\n",
    "FS.set_variable(\"left\", 2)\n",
    "FS.set_variable(\"front\", 2)\n",
    "FS.set_variable(\"back\", 2)\n",
    "# Perform Sugeno inference and print output\n",
    "print(FS.Sugeno_inference([\"vl\"]))\n",
    "\n",
    "\n",
    "# rule1 =ctrl.Rule(antecedent=(left['S'] & front['S'] & right['S']),consequent=(vl['front'], vr['front']) )\n",
    "# rule2 =ctrl.Rule(antecedent=(left['S'] & front['S'] & right['B']),consequent=(vl['back'], vr['front']) )\n",
    "# rule3 =ctrl.Rule(antecedent=(left['S'] & front['B'] & right['S']),consequent=(vl['back'], vr['front']) )\n",
    "# rule4 =ctrl.Rule(antecedent=(left['S'] & front['B'] & right['B']),consequent=(vl['back'], vr['front']) )\n",
    "# rule5 =ctrl.Rule(antecedent=(left['B'] & front['S'] & right['S']),consequent=(vl['front'], vr['back']) )\n",
    "# rule6 =ctrl.Rule(antecedent=(left['B'] & front['B'] & right['S']),consequent=(vl['front'], vr['back']) )\n",
    "# rule7 =ctrl.Rule(antecedent=(left['B'] & front['S'] & right['B']),consequent=(vl['front'], vr['front']) )\n",
    "# rule8 =ctrl.Rule(antecedent=(left['B'] & front['B'] & right['B']),consequent=(vl['back'], vr['front']) )\n",
    "\n",
    "\n",
    "\n",
    "\n",
    "\n",
    "\n",
    "FS.plot_variable(\"vl\")\n",
    "\n",
    "#FS.add_linguistic_variable(\"Service\", LinguisticVariable([S_1, S_2, S_3], concept=\"Service quality\"))\n"
   ]
  }
 ],
 "metadata": {
  "kernelspec": {
   "display_name": "Python 3",
   "language": "python",
   "name": "python3"
  },
  "language_info": {
   "codemirror_mode": {
    "name": "ipython",
    "version": 3
   },
   "file_extension": ".py",
   "mimetype": "text/x-python",
   "name": "python",
   "nbconvert_exporter": "python",
   "pygments_lexer": "ipython3",
   "version": "3.11.2"
  },
  "orig_nbformat": 4
 },
 "nbformat": 4,
 "nbformat_minor": 2
}
