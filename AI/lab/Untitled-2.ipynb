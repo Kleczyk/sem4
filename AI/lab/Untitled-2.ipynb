{
 "cells": [
  {
   "cell_type": "code",
   "execution_count": 29,
   "metadata": {},
   "outputs": [
    {
     "ename": "IndexError",
     "evalue": "too many indices for array: array is 1-dimensional, but 2 were indexed",
     "output_type": "error",
     "traceback": [
      "\u001b[1;31m---------------------------------------------------------------------------\u001b[0m",
      "\u001b[1;31mIndexError\u001b[0m                                Traceback (most recent call last)",
      "Cell \u001b[1;32mIn[29], line 60\u001b[0m\n\u001b[0;32m     58\u001b[0m             avoid_sym\u001b[39m.\u001b[39minput[\u001b[39m'\u001b[39m\u001b[39mright\u001b[39m\u001b[39m'\u001b[39m] \u001b[39m=\u001b[39m \u001b[39m0\u001b[39m\n\u001b[0;32m     59\u001b[0m             avoid_sym\u001b[39m.\u001b[39mcompute()\n\u001b[1;32m---> 60\u001b[0m             z[(i,j)] \u001b[39m=\u001b[39m avoid_sym\u001b[39m.\u001b[39moutput[\u001b[39m'\u001b[39m\u001b[39mv1\u001b[39m\u001b[39m'\u001b[39m]\n\u001b[0;32m     61\u001b[0m \u001b[39mprint\u001b[39m(z)\n\u001b[0;32m     63\u001b[0m x\u001b[39m=\u001b[39mavoid_sym\u001b[39m.\u001b[39mcompute()\n",
      "\u001b[1;31mIndexError\u001b[0m: too many indices for array: array is 1-dimensional, but 2 were indexed"
     ]
    }
   ],
   "source": [
    "import skfuzzy as fuzz\n",
    "from skfuzzy import control as ctrl\n",
    "import numpy as np\n",
    "import khepera3 as khep\n",
    "MaxProximitiSignal = 4096\n",
    "MaxSpeed = 20000\n",
    "left = ctrl.Antecedent(np.arange(0,MaxProximitiSignal,1), 'left')\n",
    "front = ctrl.Antecedent(np.arange(0,MaxProximitiSignal,1), 'front')\n",
    "right = ctrl.Antecedent(np.arange(0,MaxProximitiSignal,1), 'right')\n",
    "vl = ctrl.Consequent(np.arange(-MaxSpeed,MaxSpeed,1), 'v1')\n",
    "vr = ctrl.Consequent(np.arange(-MaxSpeed,MaxSpeed,1), 'v2')\n",
    "\n",
    "\n",
    "left['S'] = fuzz.trimf(left.universe, [0, 0, MaxProximitiSignal])\n",
    "left['B'] = fuzz.trimf(left.universe, [0, MaxProximitiSignal, MaxProximitiSignal])\n",
    "\n",
    "front['S'] =fuzz.trimf(front.universe, [0, 0, MaxProximitiSignal])\n",
    "front['B'] =fuzz.trimf(front.universe, [0, MaxProximitiSignal, MaxProximitiSignal])\n",
    "\n",
    "right['S'] =fuzz.trimf(right.universe, [0, 0, MaxProximitiSignal])\n",
    "right['B'] =fuzz.trimf(right.universe, [0, MaxProximitiSignal, MaxProximitiSignal])\n",
    "\n",
    "vl['back'] = fuzz.trimf(vl.universe, [-MaxSpeed, -MaxSpeed, 0])\n",
    "vl['front'] = fuzz.trimf(vl.universe, [0, MaxSpeed, MaxSpeed])\n",
    "\n",
    "vr['back'] = fuzz.trimf(vr.universe, [-MaxSpeed, -MaxSpeed, 0])\n",
    "vr['front'] = fuzz.trimf(vr.universe, [0,MaxSpeed, MaxSpeed])\n",
    "\n",
    "# rules definition\n",
    "# Rule in a fuzzy control system, connecting antecedent(s) to consequent(s)\n",
    "# rule1 =ctrl.Rule(antecedent=(left['S'] & front['S'] & right['S']),consequent=(vl['front'], vr['front']) )\n",
    "# rule2 =ctrl.Rule(antecedent=(left['S'] & front['S'] & right['B']),consequent=(vl['back'], vr['front']) )\n",
    "# rule3 =ctrl.Rule(antecedent=(left['S'] & front['B'] & right['S']),consequent=(vl['back'], vr['front']) )\n",
    "# rule4 =ctrl.Rule(antecedent=(left['S'] & front['B'] & right['B']),consequent=(vl['back'], vr['front']) )\n",
    "# rule5 =ctrl.Rule(antecedent=(left['B'] & front['S'] & right['S']),consequent=(vl['front'], vr['back']) )\n",
    "# rule6 =ctrl.Rule(antecedent=(left['B'] & front['B'] & right['S']),consequent=(vl['front'], vr['back']) )\n",
    "# rule7 =ctrl.Rule(antecedent=(left['B'] & front['S'] & right['B']),consequent=(vl['front'], vr['front']) )\n",
    "# rule8 =ctrl.Rule(antecedent=(left['B'] & front['B'] & right['B']),consequent=(vl['back'], vr['front']) )\n",
    "\n",
    "rule1 =ctrl.Rule(antecedent=(left['S'] & front['S'] & right['S']),consequent=(vl['front'], vr['front']) )\n",
    "rule2 =ctrl.Rule(antecedent=(left['S'] & front['S'] & right['B']),consequent=(vl['back'], vr['front']) )\n",
    "rule3 =ctrl.Rule(antecedent=(left['S'] & front['B'] & right['S']),consequent=(vl['back'], vr['front']) )\n",
    "rule4 =ctrl.Rule(antecedent=(left['S'] & front['B'] & right['B']),consequent=(vl['back'], vr['front']) )\n",
    "rule5 =ctrl.Rule(antecedent=(left['B'] & front['S'] & right['S']),consequent=(vl['front'], vr['back']) )\n",
    "rule6 =ctrl.Rule(antecedent=(left['B'] & front['B'] & right['S']),consequent=(vl['front'], vr['back']) )\n",
    "rule7 =ctrl.Rule(antecedent=(left['B'] & front['S'] & right['B']),consequent=(vl['front'], vr['front']) )\n",
    "rule8 =ctrl.Rule(antecedent=(left['B'] & front['B'] & right['B']),consequent=(vl['front'], vr['front']) )\n",
    "\n",
    "avoid_ctr = ctrl.ControlSystem([rule1,rule2,rule3,rule4,rule5,rule6,rule7,rule8]) \n",
    "avoid_sym = ctrl.ControlSystemSimulation(avoid_ctr)\n",
    "\n",
    "z= np.zeros(4000)\n",
    "\n",
    "for i in range(0,4000,10):\n",
    "    for j in range(0,4000,10):\n",
    "            avoid_sym.input['left'] = i\n",
    "            avoid_sym.input['front'] = j\n",
    "            avoid_sym.input['right'] = 0\n",
    "            avoid_sym.compute()\n",
    "            z[i,j] = avoid_sym.output['v1']\n",
    "print(z)\n",
    "\n",
    "x=avoid_sym.compute()\n",
    "vl.view(sim=avoid_sym)\n",
    "vr.view(sim=avoid_sym)\n",
    "\n",
    "\n",
    "print('lewe koło ',avoid_sym.output['vl'])\n",
    "print('prawe koło',avoid_sym.output['vr'])\n",
    "\n",
    "\n"
   ]
  }
 ],
 "metadata": {
  "kernelspec": {
   "display_name": "Python 3",
   "language": "python",
   "name": "python3"
  },
  "language_info": {
   "codemirror_mode": {
    "name": "ipython",
    "version": 3
   },
   "file_extension": ".py",
   "mimetype": "text/x-python",
   "name": "python",
   "nbconvert_exporter": "python",
   "pygments_lexer": "ipython3",
   "version": "3.11.2"
  },
  "orig_nbformat": 4
 },
 "nbformat": 4,
 "nbformat_minor": 2
}
