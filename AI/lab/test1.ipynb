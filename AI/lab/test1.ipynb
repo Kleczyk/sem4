{
 "cells": [
  {
   "cell_type": "code",
   "execution_count": 16,
   "metadata": {},
   "outputs": [
    {
     "name": "stdout",
     "output_type": "stream",
     "text": [
      "[-0.5  2.5]\n"
     ]
    }
   ],
   "source": [
    "import numpy as np\n",
    "\n",
    "\n"
   ]
  },
  {
   "cell_type": "code",
   "execution_count": null,
   "metadata": {},
   "outputs": [],
   "source": [
    "def crossPoint(a1,b1 ,a2, b2)\n",
    "    # Pierwsza prosta\n",
    "    a1 = np.array([a1,1])\n",
    "\n",
    "    # Druga prosta\n",
    "    a2 = np.array([a2,1])\n",
    "\n",
    "    # Macierz współczynników\n",
    "    A = np.array([a1, a2])\n",
    "\n",
    "    # Wektor wyrazów wolnych\n",
    "    b = np.array([b1, b2])\n",
    "\n",
    "    # Wyznaczanie punktu przecięcia\n",
    "    x = np.linalg.solve(A, b)\n",
    "    return x"
   ]
  },
  {
   "cell_type": "code",
   "execution_count": 39,
   "metadata": {},
   "outputs": [
    {
     "ename": "ValueError",
     "evalue": "Membership function '1' does not exist for Antecedent AA.\nAvailable options: ",
     "output_type": "error",
     "traceback": [
      "\u001b[1;31m---------------------------------------------------------------------------\u001b[0m",
      "\u001b[1;31mValueError\u001b[0m                                Traceback (most recent call last)",
      "Cell \u001b[1;32mIn[39], line 23\u001b[0m\n\u001b[0;32m     20\u001b[0m CC[\u001b[39m'\u001b[39m\u001b[39mC_3\u001b[39m\u001b[39m'\u001b[39m] \u001b[39m=\u001b[39m fuzz\u001b[39m.\u001b[39mtrapmf(CC\u001b[39m.\u001b[39muniverse, [\u001b[39m0\u001b[39m,\u001b[39m1\u001b[39m,\u001b[39m4\u001b[39m,\u001b[39m5\u001b[39m])\n\u001b[0;32m     22\u001b[0m x\u001b[39m=\u001b[39m ctrl\u001b[39m.\u001b[39mAntecedent(np\u001b[39m.\u001b[39marange(\u001b[39m-\u001b[39m\u001b[39m2\u001b[39m,\u001b[39m2.01\u001b[39m,\u001b[39m0.01\u001b[39m), \u001b[39m'\u001b[39m\u001b[39mAA\u001b[39m\u001b[39m'\u001b[39m)\n\u001b[1;32m---> 23\u001b[0m x\u001b[39m=\u001b[39mx[\u001b[39m1\u001b[39;49m]\n\u001b[0;32m     24\u001b[0m y \u001b[39m=\u001b[39m fuzz\u001b[39m.\u001b[39mtrimf(AA\u001b[39m.\u001b[39muniverse, [\u001b[39m-\u001b[39m\u001b[39m2\u001b[39m,\u001b[39m0\u001b[39m,\u001b[39m2\u001b[39m])\n\u001b[0;32m     26\u001b[0m \u001b[39mprint\u001b[39m(x)\n",
      "File \u001b[1;32mc:\\Python311\\Lib\\site-packages\\skfuzzy\\control\\fuzzyvariable.py:82\u001b[0m, in \u001b[0;36mFuzzyVariable.__getitem__\u001b[1;34m(self, key)\u001b[0m\n\u001b[0;32m     80\u001b[0m     \u001b[39melse\u001b[39;00m:\n\u001b[0;32m     81\u001b[0m         options \u001b[39m+\u001b[39m\u001b[39m=\u001b[39m \u001b[39m\"\u001b[39m\u001b[39m'\u001b[39m\u001b[39m\"\u001b[39m \u001b[39m+\u001b[39m \u001b[39mstr\u001b[39m(available_key) \u001b[39m+\u001b[39m \u001b[39m\"\u001b[39m\u001b[39m'\u001b[39m\u001b[39m; \u001b[39m\u001b[39m\"\u001b[39m\n\u001b[1;32m---> 82\u001b[0m \u001b[39mraise\u001b[39;00m \u001b[39mValueError\u001b[39;00m(\u001b[39m\"\u001b[39m\u001b[39mMembership function \u001b[39m\u001b[39m'\u001b[39m\u001b[39m{0}\u001b[39;00m\u001b[39m'\u001b[39m\u001b[39m does not exist for \u001b[39m\u001b[39m\"\u001b[39m\n\u001b[0;32m     83\u001b[0m                  \u001b[39m\"\u001b[39m\u001b[39m{1}\u001b[39;00m\u001b[39m \u001b[39m\u001b[39m{2}\u001b[39;00m\u001b[39m.\u001b[39m\u001b[39m\\n\u001b[39;00m\u001b[39m\"\u001b[39m\n\u001b[0;32m     84\u001b[0m                  \u001b[39m\"\u001b[39m\u001b[39mAvailable options: \u001b[39m\u001b[39m{3}\u001b[39;00m\u001b[39m\"\u001b[39m\u001b[39m.\u001b[39mformat(\n\u001b[0;32m     85\u001b[0m                      key, \u001b[39mself\u001b[39m\u001b[39m.\u001b[39m\u001b[39m__name__\u001b[39m, \u001b[39mself\u001b[39m\u001b[39m.\u001b[39mlabel, options))\n",
      "\u001b[1;31mValueError\u001b[0m: Membership function '1' does not exist for Antecedent AA.\nAvailable options: "
     ]
    }
   ],
   "source": [
    "import numpy as np\n",
    "import skfuzzy as fuzz\n",
    "from skfuzzy import control as ctrl\n",
    "import matplotlib.pyplot as plt\n",
    "\n",
    "AA = ctrl.Antecedent(np.arange(-2,2.01,0.01), 'AA')\n",
    "BB = ctrl.Antecedent(np.arange(-2,2.01,0.01), 'BB')\n",
    "CC = ctrl.Consequent(np.arange(-1,1.01,0.01), 'CC')\n",
    "\n",
    "AA['A_1'] = fuzz.trapmf(AA.universe, [-5,-4,-2,0])\n",
    "AA['A_2'] = fuzz.trimf(AA.universe, [-2,0,2])\n",
    "AA['A_3'] = fuzz.trapmf(AA.universe, [0,2,4,5])\n",
    "\n",
    "BB['B_1'] = fuzz.trapmf(BB.universe, [-5,-4,-2,0])\n",
    "BB['B_2'] = fuzz.trimf(BB.universe, [-2,0,2])\n",
    "BB['B_3'] = fuzz.trapmf(BB.universe, [0,2,4,5])\n",
    "\n",
    "CC['C_1'] = fuzz.trapmf(CC.universe, [-5,-4,-1,0])\n",
    "CC['C_2'] = fuzz.trimf(CC.universe, [-1,0,1])\n",
    "CC['C_3'] = fuzz.trapmf(CC.universe, [0,1,4,5])\n",
    "\n",
    "x= ctrl.Antecedent(np.arange(-2,2.01,0.01), 'AA')\n",
    "y = fuzz.trimf(AA.universe, [-2,0,2])\n",
    "\n",
    "print(x)\n",
    "print(y)\n",
    "\n",
    "\n",
    "AA.view()\n",
    "BB.view()\n",
    "CC.view()\n",
    "\n",
    "regula1 = ctrl.Rule(AA['A_1'] & BB['B_2'], CC['C_1'])\n",
    "regula2 = ctrl.Rule(AA['A_1'] & BB['B_3'], CC['C_2'] )\n",
    "regula3 = ctrl.Rule(AA['A_2'] & BB['B_2'], CC['C_2'] )\n",
    "regula4 = ctrl.Rule(AA['A_2'] & BB['B_3'], CC['C_3'] )\n",
    "\n",
    "CC_ctr = ctrl.ControlSystem([regula1,regula2,regula3,regula4])\n",
    "CC_sym = ctrl.ControlSystemSimulation(CC_ctr)\n",
    "\n"
   ]
  }
 ],
 "metadata": {
  "kernelspec": {
   "display_name": "Python 3",
   "language": "python",
   "name": "python3"
  },
  "language_info": {
   "codemirror_mode": {
    "name": "ipython",
    "version": 3
   },
   "file_extension": ".py",
   "mimetype": "text/x-python",
   "name": "python",
   "nbconvert_exporter": "python",
   "pygments_lexer": "ipython3",
   "version": "3.11.2"
  },
  "orig_nbformat": 4
 },
 "nbformat": 4,
 "nbformat_minor": 2
}
